{
 "cells": [
  {
   "cell_type": "code",
   "execution_count": 61,
   "id": "cc8b7a36-31f1-4ba8-8a8d-01a4f52363f3",
   "metadata": {
    "tags": []
   },
   "outputs": [],
   "source": [
    "driver.quit()"
   ]
  },
  {
   "cell_type": "code",
   "execution_count": 1,
   "id": "0771675a-880b-4cf0-b502-dfb7dafca0a6",
   "metadata": {
    "tags": []
   },
   "outputs": [],
   "source": [
    "import pandas as pd\n",
    "from webdriver_manager.microsoft import EdgeChromiumDriverManager\n",
    "from selenium.webdriver.edge.service import Service\n",
    "from selenium.webdriver.common.by import By\n",
    "from selenium import webdriver"
   ]
  },
  {
   "cell_type": "code",
   "execution_count": 2,
   "id": "e8fce89f-0e2f-4318-8abc-5520d71ea444",
   "metadata": {
    "tags": []
   },
   "outputs": [],
   "source": [
    "from selenium.webdriver.support.ui import WebDriverWait\n",
    "from selenium.webdriver.support import expected_conditions"
   ]
  },
  {
   "cell_type": "code",
   "execution_count": 2,
   "id": "43e34d34-7442-4939-9344-9a5cc934ed54",
   "metadata": {
    "tags": []
   },
   "outputs": [
    {
     "name": "stderr",
     "output_type": "stream",
     "text": [
      "[WDM] - Downloading: 100%|████████████████████████████████████████████████████████| 9.02M/9.02M [00:01<00:00, 7.30MB/s]\n"
     ]
    }
   ],
   "source": [
    "driver = webdriver.Edge(service = Service(EdgeChromiumDriverManager().install()))"
   ]
  },
  {
   "cell_type": "code",
   "execution_count": 3,
   "id": "ea8e8268-3975-4cb4-adf8-79e1af789002",
   "metadata": {
    "tags": []
   },
   "outputs": [],
   "source": [
    "destino = 'https://www.worldcubeassociation.org/competitions'"
   ]
  },
  {
   "cell_type": "code",
   "execution_count": null,
   "id": "fe9b5e2f-f6e7-41b8-9b75-f769c099b6b6",
   "metadata": {},
   "outputs": [],
   "source": [
    "'https://www.worldcubeassociation.org/competitions?event_ids%5B%5D=333&event_ids%5B%5D=222&event_ids%5B%5D=444&event_ids%5B%5D=555&event_ids%5B%5D=666&event_ids%5B%5D=777&region=all&search=&year=all+years&state=past&from_date=&to_date=&delegate=&display=list'"
   ]
  },
  {
   "cell_type": "code",
   "execution_count": 4,
   "id": "a9756ea5-ea2d-4617-9341-a632aa7579b4",
   "metadata": {
    "tags": []
   },
   "outputs": [],
   "source": [
    "driver.get(destino)"
   ]
  },
  {
   "cell_type": "code",
   "execution_count": 5,
   "id": "92e78429-0de6-4ecc-990d-67d3db340537",
   "metadata": {
    "tags": []
   },
   "outputs": [],
   "source": [
    "cubos = ['222', '333', '444', '555', '666', '777']"
   ]
  },
  {
   "cell_type": "code",
   "execution_count": 6,
   "id": "a9f6ce57-bc76-4960-81dd-f2254e060147",
   "metadata": {
    "tags": []
   },
   "outputs": [],
   "source": [
    "for check in cubos:\n",
    "    driver.find_element(By.XPATH, f'//label[@for = \\'checkbox-{check}\\']').click()"
   ]
  },
  {
   "cell_type": "code",
   "execution_count": 7,
   "id": "d0fa4edc-449d-4757-9820-85b3c8440f74",
   "metadata": {
    "tags": []
   },
   "outputs": [],
   "source": [
    "driver.find_element(By.XPATH, f'//label[@id = \\'past\\']').click()\n",
    "driver.find_element(By.XPATH, f'//a[@data-year = \\'all years\\']').click()"
   ]
  },
  {
   "cell_type": "code",
   "execution_count": 10,
   "id": "8bbc5632-12aa-4811-aec0-d7a5e6a5ce39",
   "metadata": {
    "tags": []
   },
   "outputs": [
    {
     "data": {
      "text/plain": [
       "' fi fi-ph'"
      ]
     },
     "execution_count": 10,
     "metadata": {},
     "output_type": "execute_result"
    }
   ],
   "source": [
    "driver.find_element(By.XPATH, f'//div[@class = \\'competition-link\\'] //span').get_attribute('class')"
   ]
  },
  {
   "cell_type": "code",
   "execution_count": 11,
   "id": "9414e3d7-8219-48a9-b101-45206c47c8e6",
   "metadata": {
    "tags": []
   },
   "outputs": [
    {
     "data": {
      "text/plain": [
       "'https://www.worldcubeassociation.org/competitions/CaviteSpeedcubingOpenIV2023'"
      ]
     },
     "execution_count": 11,
     "metadata": {},
     "output_type": "execute_result"
    }
   ],
   "source": [
    "driver.find_element(By.XPATH, f'//div[@class = \\'competition-link\\'] //a').get_attribute('href')"
   ]
  },
  {
   "cell_type": "code",
   "execution_count": 19,
   "id": "0eb7f852-e604-495d-803c-27f0afdcf4f1",
   "metadata": {
    "tags": []
   },
   "outputs": [],
   "source": [
    "compet = [(texto.text) for texto in driver.find_elements(By.XPATH, f'//div[@class = \\'competition-link\\']')]"
   ]
  },
  {
   "cell_type": "code",
   "execution_count": 37,
   "id": "a54258a0-dcf3-443b-b2e1-0a228decedf1",
   "metadata": {
    "tags": []
   },
   "outputs": [],
   "source": [
    "compet = [driver.find_elements(By.CLASS_NAME, 'competition-link')]#.get_attribute('href'))"
   ]
  },
  {
   "cell_type": "code",
   "execution_count": 35,
   "id": "996f6031-b171-4d62-8523-6aa5d6b095e8",
   "metadata": {
    "tags": []
   },
   "outputs": [],
   "source": [
    "compet = []"
   ]
  },
  {
   "cell_type": "code",
   "execution_count": 52,
   "id": "6b61d90f-2d3c-4d7f-91d6-988ed5a2b186",
   "metadata": {
    "tags": []
   },
   "outputs": [
    {
     "data": {
      "text/plain": [
       "2104"
      ]
     },
     "execution_count": 52,
     "metadata": {},
     "output_type": "execute_result"
    }
   ],
   "source": [
    "len(compet[0])"
   ]
  },
  {
   "cell_type": "code",
   "execution_count": 43,
   "id": "eabc64c3-da9e-477a-9741-e1c13a545ebc",
   "metadata": {
    "tags": []
   },
   "outputs": [
    {
     "data": {
      "text/plain": [
       "'competition-link'"
      ]
     },
     "execution_count": 43,
     "metadata": {},
     "output_type": "execute_result"
    }
   ],
   "source": [
    "compet[0][0].get_attribute('class')"
   ]
  },
  {
   "cell_type": "code",
   "execution_count": 54,
   "id": "9bdb727a-49ab-42be-9fdc-7b22690ef84a",
   "metadata": {
    "tags": []
   },
   "outputs": [
    {
     "data": {
      "text/plain": [
       "'Minerva Guadalajara 2023'"
      ]
     },
     "execution_count": 54,
     "metadata": {},
     "output_type": "execute_result"
    }
   ],
   "source": [
    "compet[0][0].find_element(By.TAG_NAME, 'a').text"
   ]
  },
  {
   "cell_type": "code",
   "execution_count": 50,
   "id": "d26a2476-82db-427a-a6a7-bd1da2bd02eb",
   "metadata": {
    "tags": []
   },
   "outputs": [],
   "source": [
    "c_s_a = {}"
   ]
  },
  {
   "cell_type": "code",
   "execution_count": 56,
   "id": "fd60de2b-d52f-44b5-9712-ac64c9ffeaf5",
   "metadata": {
    "collapsed": true,
    "jupyter": {
     "outputs_hidden": true
    },
    "tags": []
   },
   "outputs": [
    {
     "ename": "KeyboardInterrupt",
     "evalue": "",
     "output_type": "error",
     "traceback": [
      "\u001b[1;31m---------------------------------------------------------------------------\u001b[0m",
      "\u001b[1;31mKeyboardInterrupt\u001b[0m                         Traceback (most recent call last)",
      "Cell \u001b[1;32mIn[56], line 3\u001b[0m\n\u001b[0;32m      1\u001b[0m \u001b[38;5;28;01mfor\u001b[39;00m elemento \u001b[38;5;129;01min\u001b[39;00m compet[\u001b[38;5;241m0\u001b[39m]:\n\u001b[0;32m      2\u001b[0m     c_s_a[elemento\u001b[38;5;241m.\u001b[39mfind_element(By\u001b[38;5;241m.\u001b[39mTAG_NAME, \u001b[38;5;124m'\u001b[39m\u001b[38;5;124ma\u001b[39m\u001b[38;5;124m'\u001b[39m)\u001b[38;5;241m.\u001b[39mtext] \u001b[38;5;241m=\u001b[39m {\n\u001b[1;32m----> 3\u001b[0m         \u001b[38;5;124m'\u001b[39m\u001b[38;5;124mlink\u001b[39m\u001b[38;5;124m'\u001b[39m: \u001b[43melemento\u001b[49m\u001b[38;5;241;43m.\u001b[39;49m\u001b[43mfind_element\u001b[49m\u001b[43m(\u001b[49m\u001b[43mBy\u001b[49m\u001b[38;5;241;43m.\u001b[39;49m\u001b[43mTAG_NAME\u001b[49m\u001b[43m,\u001b[49m\u001b[43m \u001b[49m\u001b[38;5;124;43m'\u001b[39;49m\u001b[38;5;124;43ma\u001b[39;49m\u001b[38;5;124;43m'\u001b[39;49m\u001b[43m)\u001b[49m\u001b[38;5;241m.\u001b[39mget_attribute(\u001b[38;5;124m'\u001b[39m\u001b[38;5;124mhref\u001b[39m\u001b[38;5;124m'\u001b[39m),\n\u001b[0;32m      4\u001b[0m         \u001b[38;5;124m'\u001b[39m\u001b[38;5;124mpais\u001b[39m\u001b[38;5;124m'\u001b[39m: elemento\u001b[38;5;241m.\u001b[39mfind_element(By\u001b[38;5;241m.\u001b[39mTAG_NAME, \u001b[38;5;124m'\u001b[39m\u001b[38;5;124mspan\u001b[39m\u001b[38;5;124m'\u001b[39m)\u001b[38;5;241m.\u001b[39mget_attribute(\u001b[38;5;124m'\u001b[39m\u001b[38;5;124mclass\u001b[39m\u001b[38;5;124m'\u001b[39m)}\n",
      "File \u001b[1;32m~\\AppData\\Local\\Programs\\Python\\Python311\\Lib\\site-packages\\selenium\\webdriver\\remote\\webelement.py:425\u001b[0m, in \u001b[0;36mWebElement.find_element\u001b[1;34m(self, by, value)\u001b[0m\n\u001b[0;32m    422\u001b[0m     by \u001b[38;5;241m=\u001b[39m By\u001b[38;5;241m.\u001b[39mCSS_SELECTOR\n\u001b[0;32m    423\u001b[0m     value \u001b[38;5;241m=\u001b[39m \u001b[38;5;124mf\u001b[39m\u001b[38;5;124m'\u001b[39m\u001b[38;5;124m[name=\u001b[39m\u001b[38;5;124m\"\u001b[39m\u001b[38;5;132;01m{\u001b[39;00mvalue\u001b[38;5;132;01m}\u001b[39;00m\u001b[38;5;124m\"\u001b[39m\u001b[38;5;124m]\u001b[39m\u001b[38;5;124m'\u001b[39m\n\u001b[1;32m--> 425\u001b[0m \u001b[38;5;28;01mreturn\u001b[39;00m \u001b[38;5;28;43mself\u001b[39;49m\u001b[38;5;241;43m.\u001b[39;49m\u001b[43m_execute\u001b[49m\u001b[43m(\u001b[49m\u001b[43mCommand\u001b[49m\u001b[38;5;241;43m.\u001b[39;49m\u001b[43mFIND_CHILD_ELEMENT\u001b[49m\u001b[43m,\u001b[49m\u001b[43m \u001b[49m\u001b[43m{\u001b[49m\u001b[38;5;124;43m\"\u001b[39;49m\u001b[38;5;124;43musing\u001b[39;49m\u001b[38;5;124;43m\"\u001b[39;49m\u001b[43m:\u001b[49m\u001b[43m \u001b[49m\u001b[43mby\u001b[49m\u001b[43m,\u001b[49m\u001b[43m \u001b[49m\u001b[38;5;124;43m\"\u001b[39;49m\u001b[38;5;124;43mvalue\u001b[39;49m\u001b[38;5;124;43m\"\u001b[39;49m\u001b[43m:\u001b[49m\u001b[43m \u001b[49m\u001b[43mvalue\u001b[49m\u001b[43m}\u001b[49m\u001b[43m)\u001b[49m[\u001b[38;5;124m\"\u001b[39m\u001b[38;5;124mvalue\u001b[39m\u001b[38;5;124m\"\u001b[39m]\n",
      "File \u001b[1;32m~\\AppData\\Local\\Programs\\Python\\Python311\\Lib\\site-packages\\selenium\\webdriver\\remote\\webelement.py:403\u001b[0m, in \u001b[0;36mWebElement._execute\u001b[1;34m(self, command, params)\u001b[0m\n\u001b[0;32m    401\u001b[0m     params \u001b[38;5;241m=\u001b[39m {}\n\u001b[0;32m    402\u001b[0m params[\u001b[38;5;124m\"\u001b[39m\u001b[38;5;124mid\u001b[39m\u001b[38;5;124m\"\u001b[39m] \u001b[38;5;241m=\u001b[39m \u001b[38;5;28mself\u001b[39m\u001b[38;5;241m.\u001b[39m_id\n\u001b[1;32m--> 403\u001b[0m \u001b[38;5;28;01mreturn\u001b[39;00m \u001b[38;5;28;43mself\u001b[39;49m\u001b[38;5;241;43m.\u001b[39;49m\u001b[43m_parent\u001b[49m\u001b[38;5;241;43m.\u001b[39;49m\u001b[43mexecute\u001b[49m\u001b[43m(\u001b[49m\u001b[43mcommand\u001b[49m\u001b[43m,\u001b[49m\u001b[43m \u001b[49m\u001b[43mparams\u001b[49m\u001b[43m)\u001b[49m\n",
      "File \u001b[1;32m~\\AppData\\Local\\Programs\\Python\\Python311\\Lib\\site-packages\\selenium\\webdriver\\remote\\webdriver.py:438\u001b[0m, in \u001b[0;36mWebDriver.execute\u001b[1;34m(self, driver_command, params)\u001b[0m\n\u001b[0;32m    435\u001b[0m     \u001b[38;5;28;01melif\u001b[39;00m \u001b[38;5;124m\"\u001b[39m\u001b[38;5;124msessionId\u001b[39m\u001b[38;5;124m\"\u001b[39m \u001b[38;5;129;01mnot\u001b[39;00m \u001b[38;5;129;01min\u001b[39;00m params:\n\u001b[0;32m    436\u001b[0m         params[\u001b[38;5;124m\"\u001b[39m\u001b[38;5;124msessionId\u001b[39m\u001b[38;5;124m\"\u001b[39m] \u001b[38;5;241m=\u001b[39m \u001b[38;5;28mself\u001b[39m\u001b[38;5;241m.\u001b[39msession_id\n\u001b[1;32m--> 438\u001b[0m response \u001b[38;5;241m=\u001b[39m \u001b[38;5;28;43mself\u001b[39;49m\u001b[38;5;241;43m.\u001b[39;49m\u001b[43mcommand_executor\u001b[49m\u001b[38;5;241;43m.\u001b[39;49m\u001b[43mexecute\u001b[49m\u001b[43m(\u001b[49m\u001b[43mdriver_command\u001b[49m\u001b[43m,\u001b[49m\u001b[43m \u001b[49m\u001b[43mparams\u001b[49m\u001b[43m)\u001b[49m\n\u001b[0;32m    439\u001b[0m \u001b[38;5;28;01mif\u001b[39;00m response:\n\u001b[0;32m    440\u001b[0m     \u001b[38;5;28mself\u001b[39m\u001b[38;5;241m.\u001b[39merror_handler\u001b[38;5;241m.\u001b[39mcheck_response(response)\n",
      "File \u001b[1;32m~\\AppData\\Local\\Programs\\Python\\Python311\\Lib\\site-packages\\selenium\\webdriver\\remote\\remote_connection.py:290\u001b[0m, in \u001b[0;36mRemoteConnection.execute\u001b[1;34m(self, command, params)\u001b[0m\n\u001b[0;32m    288\u001b[0m data \u001b[38;5;241m=\u001b[39m utils\u001b[38;5;241m.\u001b[39mdump_json(params)\n\u001b[0;32m    289\u001b[0m url \u001b[38;5;241m=\u001b[39m \u001b[38;5;124mf\u001b[39m\u001b[38;5;124m\"\u001b[39m\u001b[38;5;132;01m{\u001b[39;00m\u001b[38;5;28mself\u001b[39m\u001b[38;5;241m.\u001b[39m_url\u001b[38;5;132;01m}\u001b[39;00m\u001b[38;5;132;01m{\u001b[39;00mpath\u001b[38;5;132;01m}\u001b[39;00m\u001b[38;5;124m\"\u001b[39m\n\u001b[1;32m--> 290\u001b[0m \u001b[38;5;28;01mreturn\u001b[39;00m \u001b[38;5;28;43mself\u001b[39;49m\u001b[38;5;241;43m.\u001b[39;49m\u001b[43m_request\u001b[49m\u001b[43m(\u001b[49m\u001b[43mcommand_info\u001b[49m\u001b[43m[\u001b[49m\u001b[38;5;241;43m0\u001b[39;49m\u001b[43m]\u001b[49m\u001b[43m,\u001b[49m\u001b[43m \u001b[49m\u001b[43murl\u001b[49m\u001b[43m,\u001b[49m\u001b[43m \u001b[49m\u001b[43mbody\u001b[49m\u001b[38;5;241;43m=\u001b[39;49m\u001b[43mdata\u001b[49m\u001b[43m)\u001b[49m\n",
      "File \u001b[1;32m~\\AppData\\Local\\Programs\\Python\\Python311\\Lib\\site-packages\\selenium\\webdriver\\remote\\remote_connection.py:311\u001b[0m, in \u001b[0;36mRemoteConnection._request\u001b[1;34m(self, method, url, body)\u001b[0m\n\u001b[0;32m    308\u001b[0m     body \u001b[38;5;241m=\u001b[39m \u001b[38;5;28;01mNone\u001b[39;00m\n\u001b[0;32m    310\u001b[0m \u001b[38;5;28;01mif\u001b[39;00m \u001b[38;5;28mself\u001b[39m\u001b[38;5;241m.\u001b[39mkeep_alive:\n\u001b[1;32m--> 311\u001b[0m     response \u001b[38;5;241m=\u001b[39m \u001b[38;5;28;43mself\u001b[39;49m\u001b[38;5;241;43m.\u001b[39;49m\u001b[43m_conn\u001b[49m\u001b[38;5;241;43m.\u001b[39;49m\u001b[43mrequest\u001b[49m\u001b[43m(\u001b[49m\u001b[43mmethod\u001b[49m\u001b[43m,\u001b[49m\u001b[43m \u001b[49m\u001b[43murl\u001b[49m\u001b[43m,\u001b[49m\u001b[43m \u001b[49m\u001b[43mbody\u001b[49m\u001b[38;5;241;43m=\u001b[39;49m\u001b[43mbody\u001b[49m\u001b[43m,\u001b[49m\u001b[43m \u001b[49m\u001b[43mheaders\u001b[49m\u001b[38;5;241;43m=\u001b[39;49m\u001b[43mheaders\u001b[49m\u001b[43m)\u001b[49m\n\u001b[0;32m    312\u001b[0m     statuscode \u001b[38;5;241m=\u001b[39m response\u001b[38;5;241m.\u001b[39mstatus\n\u001b[0;32m    313\u001b[0m \u001b[38;5;28;01melse\u001b[39;00m:\n",
      "File \u001b[1;32m~\\AppData\\Local\\Programs\\Python\\Python311\\Lib\\site-packages\\urllib3\\request.py:78\u001b[0m, in \u001b[0;36mRequestMethods.request\u001b[1;34m(self, method, url, fields, headers, **urlopen_kw)\u001b[0m\n\u001b[0;32m     74\u001b[0m     \u001b[38;5;28;01mreturn\u001b[39;00m \u001b[38;5;28mself\u001b[39m\u001b[38;5;241m.\u001b[39mrequest_encode_url(\n\u001b[0;32m     75\u001b[0m         method, url, fields\u001b[38;5;241m=\u001b[39mfields, headers\u001b[38;5;241m=\u001b[39mheaders, \u001b[38;5;241m*\u001b[39m\u001b[38;5;241m*\u001b[39murlopen_kw\n\u001b[0;32m     76\u001b[0m     )\n\u001b[0;32m     77\u001b[0m \u001b[38;5;28;01melse\u001b[39;00m:\n\u001b[1;32m---> 78\u001b[0m     \u001b[38;5;28;01mreturn\u001b[39;00m \u001b[38;5;28;43mself\u001b[39;49m\u001b[38;5;241;43m.\u001b[39;49m\u001b[43mrequest_encode_body\u001b[49m\u001b[43m(\u001b[49m\n\u001b[0;32m     79\u001b[0m \u001b[43m        \u001b[49m\u001b[43mmethod\u001b[49m\u001b[43m,\u001b[49m\u001b[43m \u001b[49m\u001b[43murl\u001b[49m\u001b[43m,\u001b[49m\u001b[43m \u001b[49m\u001b[43mfields\u001b[49m\u001b[38;5;241;43m=\u001b[39;49m\u001b[43mfields\u001b[49m\u001b[43m,\u001b[49m\u001b[43m \u001b[49m\u001b[43mheaders\u001b[49m\u001b[38;5;241;43m=\u001b[39;49m\u001b[43mheaders\u001b[49m\u001b[43m,\u001b[49m\u001b[43m \u001b[49m\u001b[38;5;241;43m*\u001b[39;49m\u001b[38;5;241;43m*\u001b[39;49m\u001b[43murlopen_kw\u001b[49m\n\u001b[0;32m     80\u001b[0m \u001b[43m    \u001b[49m\u001b[43m)\u001b[49m\n",
      "File \u001b[1;32m~\\AppData\\Local\\Programs\\Python\\Python311\\Lib\\site-packages\\urllib3\\request.py:170\u001b[0m, in \u001b[0;36mRequestMethods.request_encode_body\u001b[1;34m(self, method, url, fields, headers, encode_multipart, multipart_boundary, **urlopen_kw)\u001b[0m\n\u001b[0;32m    167\u001b[0m extra_kw[\u001b[38;5;124m\"\u001b[39m\u001b[38;5;124mheaders\u001b[39m\u001b[38;5;124m\"\u001b[39m]\u001b[38;5;241m.\u001b[39mupdate(headers)\n\u001b[0;32m    168\u001b[0m extra_kw\u001b[38;5;241m.\u001b[39mupdate(urlopen_kw)\n\u001b[1;32m--> 170\u001b[0m \u001b[38;5;28;01mreturn\u001b[39;00m \u001b[38;5;28;43mself\u001b[39;49m\u001b[38;5;241;43m.\u001b[39;49m\u001b[43murlopen\u001b[49m\u001b[43m(\u001b[49m\u001b[43mmethod\u001b[49m\u001b[43m,\u001b[49m\u001b[43m \u001b[49m\u001b[43murl\u001b[49m\u001b[43m,\u001b[49m\u001b[43m \u001b[49m\u001b[38;5;241;43m*\u001b[39;49m\u001b[38;5;241;43m*\u001b[39;49m\u001b[43mextra_kw\u001b[49m\u001b[43m)\u001b[49m\n",
      "File \u001b[1;32m~\\AppData\\Local\\Programs\\Python\\Python311\\Lib\\site-packages\\urllib3\\poolmanager.py:376\u001b[0m, in \u001b[0;36mPoolManager.urlopen\u001b[1;34m(self, method, url, redirect, **kw)\u001b[0m\n\u001b[0;32m    374\u001b[0m     response \u001b[38;5;241m=\u001b[39m conn\u001b[38;5;241m.\u001b[39murlopen(method, url, \u001b[38;5;241m*\u001b[39m\u001b[38;5;241m*\u001b[39mkw)\n\u001b[0;32m    375\u001b[0m \u001b[38;5;28;01melse\u001b[39;00m:\n\u001b[1;32m--> 376\u001b[0m     response \u001b[38;5;241m=\u001b[39m \u001b[43mconn\u001b[49m\u001b[38;5;241;43m.\u001b[39;49m\u001b[43murlopen\u001b[49m\u001b[43m(\u001b[49m\u001b[43mmethod\u001b[49m\u001b[43m,\u001b[49m\u001b[43m \u001b[49m\u001b[43mu\u001b[49m\u001b[38;5;241;43m.\u001b[39;49m\u001b[43mrequest_uri\u001b[49m\u001b[43m,\u001b[49m\u001b[43m \u001b[49m\u001b[38;5;241;43m*\u001b[39;49m\u001b[38;5;241;43m*\u001b[39;49m\u001b[43mkw\u001b[49m\u001b[43m)\u001b[49m\n\u001b[0;32m    378\u001b[0m redirect_location \u001b[38;5;241m=\u001b[39m redirect \u001b[38;5;129;01mand\u001b[39;00m response\u001b[38;5;241m.\u001b[39mget_redirect_location()\n\u001b[0;32m    379\u001b[0m \u001b[38;5;28;01mif\u001b[39;00m \u001b[38;5;129;01mnot\u001b[39;00m redirect_location:\n",
      "File \u001b[1;32m~\\AppData\\Local\\Programs\\Python\\Python311\\Lib\\site-packages\\urllib3\\connectionpool.py:703\u001b[0m, in \u001b[0;36mHTTPConnectionPool.urlopen\u001b[1;34m(self, method, url, body, headers, retries, redirect, assert_same_host, timeout, pool_timeout, release_conn, chunked, body_pos, **response_kw)\u001b[0m\n\u001b[0;32m    700\u001b[0m     \u001b[38;5;28mself\u001b[39m\u001b[38;5;241m.\u001b[39m_prepare_proxy(conn)\n\u001b[0;32m    702\u001b[0m \u001b[38;5;66;03m# Make the request on the httplib connection object.\u001b[39;00m\n\u001b[1;32m--> 703\u001b[0m httplib_response \u001b[38;5;241m=\u001b[39m \u001b[38;5;28;43mself\u001b[39;49m\u001b[38;5;241;43m.\u001b[39;49m\u001b[43m_make_request\u001b[49m\u001b[43m(\u001b[49m\n\u001b[0;32m    704\u001b[0m \u001b[43m    \u001b[49m\u001b[43mconn\u001b[49m\u001b[43m,\u001b[49m\n\u001b[0;32m    705\u001b[0m \u001b[43m    \u001b[49m\u001b[43mmethod\u001b[49m\u001b[43m,\u001b[49m\n\u001b[0;32m    706\u001b[0m \u001b[43m    \u001b[49m\u001b[43murl\u001b[49m\u001b[43m,\u001b[49m\n\u001b[0;32m    707\u001b[0m \u001b[43m    \u001b[49m\u001b[43mtimeout\u001b[49m\u001b[38;5;241;43m=\u001b[39;49m\u001b[43mtimeout_obj\u001b[49m\u001b[43m,\u001b[49m\n\u001b[0;32m    708\u001b[0m \u001b[43m    \u001b[49m\u001b[43mbody\u001b[49m\u001b[38;5;241;43m=\u001b[39;49m\u001b[43mbody\u001b[49m\u001b[43m,\u001b[49m\n\u001b[0;32m    709\u001b[0m \u001b[43m    \u001b[49m\u001b[43mheaders\u001b[49m\u001b[38;5;241;43m=\u001b[39;49m\u001b[43mheaders\u001b[49m\u001b[43m,\u001b[49m\n\u001b[0;32m    710\u001b[0m \u001b[43m    \u001b[49m\u001b[43mchunked\u001b[49m\u001b[38;5;241;43m=\u001b[39;49m\u001b[43mchunked\u001b[49m\u001b[43m,\u001b[49m\n\u001b[0;32m    711\u001b[0m \u001b[43m\u001b[49m\u001b[43m)\u001b[49m\n\u001b[0;32m    713\u001b[0m \u001b[38;5;66;03m# If we're going to release the connection in ``finally:``, then\u001b[39;00m\n\u001b[0;32m    714\u001b[0m \u001b[38;5;66;03m# the response doesn't need to know about the connection. Otherwise\u001b[39;00m\n\u001b[0;32m    715\u001b[0m \u001b[38;5;66;03m# it will also try to release it and we'll have a double-release\u001b[39;00m\n\u001b[0;32m    716\u001b[0m \u001b[38;5;66;03m# mess.\u001b[39;00m\n\u001b[0;32m    717\u001b[0m response_conn \u001b[38;5;241m=\u001b[39m conn \u001b[38;5;28;01mif\u001b[39;00m \u001b[38;5;129;01mnot\u001b[39;00m release_conn \u001b[38;5;28;01melse\u001b[39;00m \u001b[38;5;28;01mNone\u001b[39;00m\n",
      "File \u001b[1;32m~\\AppData\\Local\\Programs\\Python\\Python311\\Lib\\site-packages\\urllib3\\connectionpool.py:449\u001b[0m, in \u001b[0;36mHTTPConnectionPool._make_request\u001b[1;34m(self, conn, method, url, timeout, chunked, **httplib_request_kw)\u001b[0m\n\u001b[0;32m    444\u001b[0m             httplib_response \u001b[38;5;241m=\u001b[39m conn\u001b[38;5;241m.\u001b[39mgetresponse()\n\u001b[0;32m    445\u001b[0m         \u001b[38;5;28;01mexcept\u001b[39;00m \u001b[38;5;167;01mBaseException\u001b[39;00m \u001b[38;5;28;01mas\u001b[39;00m e:\n\u001b[0;32m    446\u001b[0m             \u001b[38;5;66;03m# Remove the TypeError from the exception chain in\u001b[39;00m\n\u001b[0;32m    447\u001b[0m             \u001b[38;5;66;03m# Python 3 (including for exceptions like SystemExit).\u001b[39;00m\n\u001b[0;32m    448\u001b[0m             \u001b[38;5;66;03m# Otherwise it looks like a bug in the code.\u001b[39;00m\n\u001b[1;32m--> 449\u001b[0m             \u001b[43msix\u001b[49m\u001b[38;5;241;43m.\u001b[39;49m\u001b[43mraise_from\u001b[49m\u001b[43m(\u001b[49m\u001b[43me\u001b[49m\u001b[43m,\u001b[49m\u001b[43m \u001b[49m\u001b[38;5;28;43;01mNone\u001b[39;49;00m\u001b[43m)\u001b[49m\n\u001b[0;32m    450\u001b[0m \u001b[38;5;28;01mexcept\u001b[39;00m (SocketTimeout, BaseSSLError, SocketError) \u001b[38;5;28;01mas\u001b[39;00m e:\n\u001b[0;32m    451\u001b[0m     \u001b[38;5;28mself\u001b[39m\u001b[38;5;241m.\u001b[39m_raise_timeout(err\u001b[38;5;241m=\u001b[39me, url\u001b[38;5;241m=\u001b[39murl, timeout_value\u001b[38;5;241m=\u001b[39mread_timeout)\n",
      "File \u001b[1;32m<string>:3\u001b[0m, in \u001b[0;36mraise_from\u001b[1;34m(value, from_value)\u001b[0m\n",
      "File \u001b[1;32m~\\AppData\\Local\\Programs\\Python\\Python311\\Lib\\site-packages\\urllib3\\connectionpool.py:444\u001b[0m, in \u001b[0;36mHTTPConnectionPool._make_request\u001b[1;34m(self, conn, method, url, timeout, chunked, **httplib_request_kw)\u001b[0m\n\u001b[0;32m    441\u001b[0m \u001b[38;5;28;01mexcept\u001b[39;00m \u001b[38;5;167;01mTypeError\u001b[39;00m:\n\u001b[0;32m    442\u001b[0m     \u001b[38;5;66;03m# Python 3\u001b[39;00m\n\u001b[0;32m    443\u001b[0m     \u001b[38;5;28;01mtry\u001b[39;00m:\n\u001b[1;32m--> 444\u001b[0m         httplib_response \u001b[38;5;241m=\u001b[39m \u001b[43mconn\u001b[49m\u001b[38;5;241;43m.\u001b[39;49m\u001b[43mgetresponse\u001b[49m\u001b[43m(\u001b[49m\u001b[43m)\u001b[49m\n\u001b[0;32m    445\u001b[0m     \u001b[38;5;28;01mexcept\u001b[39;00m \u001b[38;5;167;01mBaseException\u001b[39;00m \u001b[38;5;28;01mas\u001b[39;00m e:\n\u001b[0;32m    446\u001b[0m         \u001b[38;5;66;03m# Remove the TypeError from the exception chain in\u001b[39;00m\n\u001b[0;32m    447\u001b[0m         \u001b[38;5;66;03m# Python 3 (including for exceptions like SystemExit).\u001b[39;00m\n\u001b[0;32m    448\u001b[0m         \u001b[38;5;66;03m# Otherwise it looks like a bug in the code.\u001b[39;00m\n\u001b[0;32m    449\u001b[0m         six\u001b[38;5;241m.\u001b[39mraise_from(e, \u001b[38;5;28;01mNone\u001b[39;00m)\n",
      "File \u001b[1;32m~\\AppData\\Local\\Programs\\Python\\Python311\\Lib\\http\\client.py:1374\u001b[0m, in \u001b[0;36mHTTPConnection.getresponse\u001b[1;34m(self)\u001b[0m\n\u001b[0;32m   1372\u001b[0m \u001b[38;5;28;01mtry\u001b[39;00m:\n\u001b[0;32m   1373\u001b[0m     \u001b[38;5;28;01mtry\u001b[39;00m:\n\u001b[1;32m-> 1374\u001b[0m         \u001b[43mresponse\u001b[49m\u001b[38;5;241;43m.\u001b[39;49m\u001b[43mbegin\u001b[49m\u001b[43m(\u001b[49m\u001b[43m)\u001b[49m\n\u001b[0;32m   1375\u001b[0m     \u001b[38;5;28;01mexcept\u001b[39;00m \u001b[38;5;167;01mConnectionError\u001b[39;00m:\n\u001b[0;32m   1376\u001b[0m         \u001b[38;5;28mself\u001b[39m\u001b[38;5;241m.\u001b[39mclose()\n",
      "File \u001b[1;32m~\\AppData\\Local\\Programs\\Python\\Python311\\Lib\\http\\client.py:318\u001b[0m, in \u001b[0;36mHTTPResponse.begin\u001b[1;34m(self)\u001b[0m\n\u001b[0;32m    316\u001b[0m \u001b[38;5;66;03m# read until we get a non-100 response\u001b[39;00m\n\u001b[0;32m    317\u001b[0m \u001b[38;5;28;01mwhile\u001b[39;00m \u001b[38;5;28;01mTrue\u001b[39;00m:\n\u001b[1;32m--> 318\u001b[0m     version, status, reason \u001b[38;5;241m=\u001b[39m \u001b[38;5;28;43mself\u001b[39;49m\u001b[38;5;241;43m.\u001b[39;49m\u001b[43m_read_status\u001b[49m\u001b[43m(\u001b[49m\u001b[43m)\u001b[49m\n\u001b[0;32m    319\u001b[0m     \u001b[38;5;28;01mif\u001b[39;00m status \u001b[38;5;241m!=\u001b[39m CONTINUE:\n\u001b[0;32m    320\u001b[0m         \u001b[38;5;28;01mbreak\u001b[39;00m\n",
      "File \u001b[1;32m~\\AppData\\Local\\Programs\\Python\\Python311\\Lib\\http\\client.py:279\u001b[0m, in \u001b[0;36mHTTPResponse._read_status\u001b[1;34m(self)\u001b[0m\n\u001b[0;32m    278\u001b[0m \u001b[38;5;28;01mdef\u001b[39;00m \u001b[38;5;21m_read_status\u001b[39m(\u001b[38;5;28mself\u001b[39m):\n\u001b[1;32m--> 279\u001b[0m     line \u001b[38;5;241m=\u001b[39m \u001b[38;5;28mstr\u001b[39m(\u001b[38;5;28mself\u001b[39m\u001b[38;5;241m.\u001b[39mfp\u001b[38;5;241m.\u001b[39mreadline(_MAXLINE \u001b[38;5;241m+\u001b[39m \u001b[38;5;241m1\u001b[39m), \u001b[38;5;124m\"\u001b[39m\u001b[38;5;124miso-8859-1\u001b[39m\u001b[38;5;124m\"\u001b[39m)\n\u001b[0;32m    280\u001b[0m     \u001b[38;5;28;01mif\u001b[39;00m \u001b[38;5;28mlen\u001b[39m(line) \u001b[38;5;241m>\u001b[39m _MAXLINE:\n\u001b[0;32m    281\u001b[0m         \u001b[38;5;28;01mraise\u001b[39;00m LineTooLong(\u001b[38;5;124m\"\u001b[39m\u001b[38;5;124mstatus line\u001b[39m\u001b[38;5;124m\"\u001b[39m)\n",
      "File \u001b[1;32m~\\AppData\\Local\\Programs\\Python\\Python311\\Lib\\socket.py:706\u001b[0m, in \u001b[0;36mSocketIO.readinto\u001b[1;34m(self, b)\u001b[0m\n\u001b[0;32m    704\u001b[0m \u001b[38;5;28;01mwhile\u001b[39;00m \u001b[38;5;28;01mTrue\u001b[39;00m:\n\u001b[0;32m    705\u001b[0m     \u001b[38;5;28;01mtry\u001b[39;00m:\n\u001b[1;32m--> 706\u001b[0m         \u001b[38;5;28;01mreturn\u001b[39;00m \u001b[38;5;28;43mself\u001b[39;49m\u001b[38;5;241;43m.\u001b[39;49m\u001b[43m_sock\u001b[49m\u001b[38;5;241;43m.\u001b[39;49m\u001b[43mrecv_into\u001b[49m\u001b[43m(\u001b[49m\u001b[43mb\u001b[49m\u001b[43m)\u001b[49m\n\u001b[0;32m    707\u001b[0m     \u001b[38;5;28;01mexcept\u001b[39;00m timeout:\n\u001b[0;32m    708\u001b[0m         \u001b[38;5;28mself\u001b[39m\u001b[38;5;241m.\u001b[39m_timeout_occurred \u001b[38;5;241m=\u001b[39m \u001b[38;5;28;01mTrue\u001b[39;00m\n",
      "\u001b[1;31mKeyboardInterrupt\u001b[0m: "
     ]
    }
   ],
   "source": [
    "for elemento in enumerate(compet[0]):\n",
    "    c_s_a[elemento.find_element(By.TAG_NAME, 'a').text] = {\n",
    "        'link': elemento.find_element(By.TAG_NAME, 'a').get_attribute('href'),\n",
    "        'pais': elemento.find_element(By.TAG_NAME, 'span').get_attribute('class')}"
   ]
  },
  {
   "cell_type": "code",
   "execution_count": 88,
   "id": "77d39ce5-3eab-4e06-ae17-820c856c2493",
   "metadata": {
    "tags": []
   },
   "outputs": [
    {
     "name": "stdout",
     "output_type": "stream",
     "text": [
      "[====================] 100%"
     ]
    }
   ],
   "source": [
    "from time import sleep\n",
    "import sys\n",
    "\n",
    "for i in range(21):\n",
    "    sys.stdout.write('\\r')\n",
    "    # the exact output you're looking for:\n",
    "    sys.stdout.write(\"[%-20s] %d%%\" % ('='*i, 5*i))\n",
    "    sys.stdout.flush()\n",
    "    sleep(0.25)"
   ]
  },
  {
   "cell_type": "code",
   "execution_count": 96,
   "id": "57640c3b-d960-402c-b45f-087dd8cba82a",
   "metadata": {
    "tags": []
   },
   "outputs": [
    {
     "name": "stdout",
     "output_type": "stream",
     "text": [
      "[==================================] 100%"
     ]
    }
   ],
   "source": [
    "e = 34\n",
    "for i in range(e + 1):\n",
    "    sys.stdout.write('\\r')\n",
    "    # the exact output you're looking for:\n",
    "    #sys.stdout.write(\"[%-20s] %d%%\" % ('='*i, 5*i))\n",
    "    sys.stdout.write(\"[{n}{s}] {p}%\".format(n = '='*i, s = ' '*(e-i), p = round((i/e)*100) ))\n",
    "    sys.stdout.flush()\n",
    "    sleep(0.2)"
   ]
  },
  {
   "cell_type": "code",
   "execution_count": null,
   "id": "359738bf-b374-4f42-a54e-5aa0c9ed957f",
   "metadata": {},
   "outputs": [],
   "source": []
  },
  {
   "cell_type": "code",
   "execution_count": null,
   "id": "5f54d9ca-424d-406d-afa6-e6fc51ac8bad",
   "metadata": {},
   "outputs": [],
   "source": []
  },
  {
   "cell_type": "code",
   "execution_count": null,
   "id": "4262e716-d732-47da-a08c-f1a024bd027b",
   "metadata": {},
   "outputs": [],
   "source": []
  },
  {
   "cell_type": "code",
   "execution_count": null,
   "id": "b34fbe49-dece-4000-aaac-8c75e55a3e4c",
   "metadata": {},
   "outputs": [],
   "source": []
  },
  {
   "cell_type": "code",
   "execution_count": null,
   "id": "a1d4ac8a-2019-4246-aa62-e105fd1a0d25",
   "metadata": {},
   "outputs": [],
   "source": []
  },
  {
   "cell_type": "code",
   "execution_count": null,
   "id": "65191d21-9316-4dd1-82ca-6daf6d1375c6",
   "metadata": {},
   "outputs": [],
   "source": []
  },
  {
   "cell_type": "code",
   "execution_count": 13,
   "id": "04bb6dce-dfbe-4bb7-bde1-9b51fde017f2",
   "metadata": {},
   "outputs": [],
   "source": [
    "driver.get(driver.find_element(By.XPATH, f'//div[@class = \\'competition-link\\'] //a').get_attribute('href'))"
   ]
  },
  {
   "cell_type": "code",
   "execution_count": 23,
   "id": "2a2c76e8-371c-4d97-8c4c-c13551249c2f",
   "metadata": {
    "tags": []
   },
   "outputs": [],
   "source": [
    "driver.get('https://www.worldcubeassociation.org/competitions/CopaRubikPoligatoFPUNA2022')"
   ]
  },
  {
   "cell_type": "code",
   "execution_count": 24,
   "id": "19d91b1c-ddc5-4bcc-b60b-73a1f3101f30",
   "metadata": {
    "tags": []
   },
   "outputs": [],
   "source": [
    "dicta = {}\n",
    "for posit in range(4):\n",
    "    atre = driver.find_elements(By.TAG_NAME, 'dt')[posit].text\n",
    "    dicta[f'{atre}'] = driver.find_elements(By.TAG_NAME, 'dd')[posit].text"
   ]
  },
  {
   "cell_type": "code",
   "execution_count": 25,
   "id": "18de92ff-b55a-44a8-b99d-10465b73577d",
   "metadata": {
    "tags": []
   },
   "outputs": [
    {
     "data": {
      "text/plain": [
       "{'Data': '17 dez, 2022',\n",
       " 'Cidade': 'Asunción, Paraguai',\n",
       " 'Local': 'Facultad Politécnica - Universidad Nacional de Asunción',\n",
       " 'Endereço': 'Acceso peatonal de Mcal. Estigarribia a la UNA, San Lorenzo'}"
      ]
     },
     "execution_count": 25,
     "metadata": {},
     "output_type": "execute_result"
    }
   ],
   "source": [
    "dicta"
   ]
  },
  {
   "cell_type": "code",
   "execution_count": 26,
   "id": "7a0e7cc8-0f5d-40e9-a027-ddc83456d844",
   "metadata": {
    "tags": []
   },
   "outputs": [],
   "source": [
    "driver.get('https://www.worldcubeassociation.org/competitions/CopaRubikPoligatoFPUNA2022/results/all')"
   ]
  },
  {
   "cell_type": "code",
   "execution_count": 64,
   "id": "09857405-0e5f-447c-bc21-373b1fb19d52",
   "metadata": {
    "tags": []
   },
   "outputs": [],
   "source": [
    "driver.get('https://www.worldcubeassociation.org/competitions/CopaRubikPoligatoFPUNA2022/results/all?event=222')"
   ]
  },
  {
   "cell_type": "code",
   "execution_count": 60,
   "id": "7180561f-8522-49cf-aba8-9f043ffcce06",
   "metadata": {
    "tags": []
   },
   "outputs": [
    {
     "name": "stdout",
     "output_type": "stream",
     "text": [
      "['1', 'David Emmanuel Velozo Cabrera', '3.45', '', '3.98', '', '', '(3.45) 4.16 4.34 3.45 (5.25)', '2', 'Milko Sebastián Gutiérrez Arroyo', '2.68', '', '4.09', '', '', '(2.68) 4.43 4.45 3.39 (DNF)', '3', 'Martin Alejandro Benítez López', '2.29', '', '4.69', '', '', '(2.29) 4.52 3.56 (6.40) 5.98', '4', 'Kenji Caceres', '3.13', '', '4.71', '', '', '3.71 5.76 4.66 (3.13) (6.85)', '5', 'José Chávez', '4.89', '', '5.60', '', '', '(4.89) 5.49 6.01 5.31 (7.86)', '6', 'José Benítez', '3.10', '', '5.62', '', '', '(3.10) (8.98) 5.47 5.51 5.89', '7', 'Pedro Benjamín Uliambre Galeano', '4.16', '', '5.65', '', '', '5.43 5.96 (4.16) 5.57 (7.81)', '8', 'Elias Miguel Acosta Acosta', '4.85', '', '5.75', '', '', '(6.46) (4.85) 5.28 5.55 6.43', '9', 'Donato Simón Filippini', '3.02', '', '5.82', '', '', '(3.02) 6.28 4.78 6.40 (11.04)', '10', 'Oliver Richard Zoilan Avalos', '3.65', '', '5.87', '', '', '7.40 (DNF) (3.65) 4.56 5.64', '11', 'Ileana Ojeda', '4.89', '', '6.49', '', '', '(12.43) 5.41 7.63 6.42 (4.89)', '12', 'Marcos Ezequiel Fretes Acosta', '4.53', '', '6.77', '', '', '6.81 (4.53) 6.66 6.83 (8.90)', '13', 'Milena Noemí Medina Obelar', '3.62', '', '6.93', '', '', '7.16 5.68 (8.70) (3.62) 7.96', '14', 'Martín Rafael Orué Aguilera', '5.25', '', '7.26', '', '', '7.21 8.69 (8.74) (5.25) 5.88', '15', 'Misael Alexander Mancuello Ayala', '4.79', '', '7.59', '', '', '(4.79) 6.15 9.66 6.95 (DNF)', '16', 'Jorge Sol Salinas', '7.32', '', '8.16', '', '', '7.57 7.99 (9.37) (7.32) 8.92', '17', 'Luis Fernando Yegros Salinas', '6.70', '', '8.61', '', '', '6.76 (6.70) 7.84 11.24 (12.64)', '18', 'Nilton Tobias Ojeda Martinez', '3.37', '', '8.91', '', '', '(11.33) 9.68 10.47 6.57 (3.37)', '19', 'Juan Manuel Franceschelli', '8.23', '', '8.97', '', '', '8.24 (17.64) 10.43 8.24 (8.23)', '20', 'Alejandro Gabriel Delvalle Britez', '8.75', '', '9.17', '', '', '9.12 (8.75) (13.01) 9.56 8.83', '21', 'Gustavo Adolfo Ortega Gomez', '8.35', '', '9.26', '', '', '9.06 (8.35) (23.11) 9.60 9.13', '22', 'Elvis Fernando Alderete Gonzalez', '5.75', '', '9.47', '', '', '12.77 (5.75) 5.85 (18.96) 9.78', '23', 'Gustavo Riveiro', '6.69', '', '9.75', '', '', '(6.69) 11.06 10.53 7.65 (23.05)', '24', 'Pető Bertalan', '9.58', '', '10.39', '', '', '(9.58) 9.75 11.38 (13.59) 10.05', '25', 'Jesús Encina Cuenca Simon', '9.12', '', '11.01', '', '', '11.74 (9.12) 12.13 (DNF) 9.15', '26', 'Alan Federico Zeballos Benitez', '11.06', '', '12.27', '', '', '11.11 12.52 (21.38) (11.06) 13.17', '27', 'Piero Alessandro Rugilo Alsina', '9.76', '', '14.83', '', '', '16.38 17.00 11.10 (9.76) (52.77)', '28', 'Alejandro Benjamin Vysokolan Gonzalez', '14.36', '', '23.82', '', '', '21.86 (41.32) 27.11 (14.36) 22.49']\n"
     ]
    }
   ],
   "source": [
    "print([item.text for item in driver.find_element(By.TAG_NAME, 'tbody').find_elements(By.TAG_NAME, 'td')], sep = '\\n')"
   ]
  },
  {
   "cell_type": "code",
   "execution_count": 77,
   "id": "ea6d6fba-b01c-4b38-9a23-1c3b9e29cca5",
   "metadata": {
    "collapsed": true,
    "jupyter": {
     "outputs_hidden": true
    },
    "tags": []
   },
   "outputs": [
    {
     "data": {
      "text/plain": [
       "[1.0,\n",
       " 'David Emmanuel Velozo Cabrera',\n",
       " 3.45,\n",
       " 3.98,\n",
       " 'fi fi-py',\n",
       " 3.45,\n",
       " 4.16,\n",
       " 4.34,\n",
       " 3.45,\n",
       " 5.25,\n",
       " 2.0,\n",
       " 'Milko Sebastián Gutiérrez Arroyo',\n",
       " 2.68,\n",
       " 4.09,\n",
       " 'fi fi-py',\n",
       " 2.68,\n",
       " 4.43,\n",
       " 4.45,\n",
       " 3.39,\n",
       " 'DNF',\n",
       " 3.0,\n",
       " 'Martin Alejandro Benítez López',\n",
       " 2.29,\n",
       " 4.69,\n",
       " 'fi fi-py',\n",
       " 2.29,\n",
       " 4.52,\n",
       " 3.56,\n",
       " 6.4,\n",
       " 5.98,\n",
       " 4.0,\n",
       " 'Kenji Caceres',\n",
       " 3.13,\n",
       " 4.71,\n",
       " 'fi fi-py',\n",
       " 3.71,\n",
       " 5.76,\n",
       " 4.66,\n",
       " 3.13,\n",
       " 6.85,\n",
       " 5.0,\n",
       " 'José Chávez',\n",
       " 4.89,\n",
       " 5.6,\n",
       " 'fi fi-py',\n",
       " 4.89,\n",
       " 5.49,\n",
       " 6.01,\n",
       " 5.31,\n",
       " 7.86,\n",
       " 6.0,\n",
       " 'José Benítez',\n",
       " 3.1,\n",
       " 5.62,\n",
       " 'fi fi-py',\n",
       " 3.1,\n",
       " 8.98,\n",
       " 5.47,\n",
       " 5.51,\n",
       " 5.89,\n",
       " 7.0,\n",
       " 'Pedro Benjamín Uliambre Galeano',\n",
       " 4.16,\n",
       " 5.65,\n",
       " 'fi fi-py',\n",
       " 5.43,\n",
       " 5.96,\n",
       " 4.16,\n",
       " 5.57,\n",
       " 7.81,\n",
       " 8.0,\n",
       " 'Elias Miguel Acosta Acosta',\n",
       " 4.85,\n",
       " 5.75,\n",
       " 'fi fi-py',\n",
       " 6.46,\n",
       " 4.85,\n",
       " 5.28,\n",
       " 5.55,\n",
       " 6.43,\n",
       " 9.0,\n",
       " 'Donato Simón Filippini',\n",
       " 3.02,\n",
       " 5.82,\n",
       " 'fi fi-ar',\n",
       " 3.02,\n",
       " 6.28,\n",
       " 4.78,\n",
       " 6.4,\n",
       " 11.04,\n",
       " 10.0,\n",
       " 'Oliver Richard Zoilan Avalos',\n",
       " 3.65,\n",
       " 5.87,\n",
       " 'fi fi-py',\n",
       " 7.4,\n",
       " 'DNF',\n",
       " 3.65,\n",
       " 4.56,\n",
       " 5.64,\n",
       " 11.0,\n",
       " 'Ileana Ojeda',\n",
       " 4.89,\n",
       " 6.49,\n",
       " 'fi fi-py',\n",
       " 12.43,\n",
       " 5.41,\n",
       " 7.63,\n",
       " 6.42,\n",
       " 4.89,\n",
       " 12.0,\n",
       " 'Marcos Ezequiel Fretes Acosta',\n",
       " 4.53,\n",
       " 6.77,\n",
       " 'fi fi-py',\n",
       " 6.81,\n",
       " 4.53,\n",
       " 6.66,\n",
       " 6.83,\n",
       " 8.9,\n",
       " 13.0,\n",
       " 'Milena Noemí Medina Obelar',\n",
       " 3.62,\n",
       " 6.93,\n",
       " 'fi fi-py',\n",
       " 7.16,\n",
       " 5.68,\n",
       " 8.7,\n",
       " 3.62,\n",
       " 7.96,\n",
       " 14.0,\n",
       " 'Martín Rafael Orué Aguilera',\n",
       " 5.25,\n",
       " 7.26,\n",
       " 'fi fi-py',\n",
       " 7.21,\n",
       " 8.69,\n",
       " 8.74,\n",
       " 5.25,\n",
       " 5.88,\n",
       " 15.0,\n",
       " 'Misael Alexander Mancuello Ayala',\n",
       " 4.79,\n",
       " 7.59,\n",
       " 'fi fi-py',\n",
       " 4.79,\n",
       " 6.15,\n",
       " 9.66,\n",
       " 6.95,\n",
       " 'DNF',\n",
       " 16.0,\n",
       " 'Jorge Sol Salinas',\n",
       " 7.32,\n",
       " 8.16,\n",
       " 'fi fi-py',\n",
       " 7.57,\n",
       " 7.99,\n",
       " 9.37,\n",
       " 7.32,\n",
       " 8.92,\n",
       " 17.0,\n",
       " 'Luis Fernando Yegros Salinas',\n",
       " 6.7,\n",
       " 8.61,\n",
       " 'fi fi-py',\n",
       " 6.76,\n",
       " 6.7,\n",
       " 7.84,\n",
       " 11.24,\n",
       " 12.64,\n",
       " 18.0,\n",
       " 'Nilton Tobias Ojeda Martinez',\n",
       " 3.37,\n",
       " 8.91,\n",
       " 'fi fi-py',\n",
       " 11.33,\n",
       " 9.68,\n",
       " 10.47,\n",
       " 6.57,\n",
       " 3.37,\n",
       " 19.0,\n",
       " 'Juan Manuel Franceschelli',\n",
       " 8.23,\n",
       " 8.97,\n",
       " 'fi fi-py',\n",
       " 8.24,\n",
       " 17.64,\n",
       " 10.43,\n",
       " 8.24,\n",
       " 8.23,\n",
       " 20.0,\n",
       " 'Alejandro Gabriel Delvalle Britez',\n",
       " 8.75,\n",
       " 9.17,\n",
       " 'fi fi-py',\n",
       " 9.12,\n",
       " 8.75,\n",
       " 13.01,\n",
       " 9.56,\n",
       " 8.83,\n",
       " 21.0,\n",
       " 'Gustavo Adolfo Ortega Gomez',\n",
       " 8.35,\n",
       " 9.26,\n",
       " 'fi fi-ve',\n",
       " 9.06,\n",
       " 8.35,\n",
       " 23.11,\n",
       " 9.6,\n",
       " 9.13,\n",
       " 22.0,\n",
       " 'Elvis Fernando Alderete Gonzalez',\n",
       " 5.75,\n",
       " 9.47,\n",
       " 'fi fi-py',\n",
       " 12.77,\n",
       " 5.75,\n",
       " 5.85,\n",
       " 18.96,\n",
       " 9.78,\n",
       " 23.0,\n",
       " 'Gustavo Riveiro',\n",
       " 6.69,\n",
       " 9.75,\n",
       " 'fi fi-py',\n",
       " 6.69,\n",
       " 11.06,\n",
       " 10.53,\n",
       " 7.65,\n",
       " 23.05,\n",
       " 24.0,\n",
       " 'Pető Bertalan',\n",
       " 9.58,\n",
       " 10.39,\n",
       " 'fi fi-hu',\n",
       " 9.58,\n",
       " 9.75,\n",
       " 11.38,\n",
       " 13.59,\n",
       " 10.05,\n",
       " 25.0,\n",
       " 'Jesús Encina Cuenca Simon',\n",
       " 9.12,\n",
       " 11.01,\n",
       " 'fi fi-py',\n",
       " 11.74,\n",
       " 9.12,\n",
       " 12.13,\n",
       " 'DNF',\n",
       " 9.15,\n",
       " 26.0,\n",
       " 'Alan Federico Zeballos Benitez',\n",
       " 11.06,\n",
       " 12.27,\n",
       " 'fi fi-py',\n",
       " 11.11,\n",
       " 12.52,\n",
       " 21.38,\n",
       " 11.06,\n",
       " 13.17,\n",
       " 27.0,\n",
       " 'Piero Alessandro Rugilo Alsina',\n",
       " 9.76,\n",
       " 14.83,\n",
       " 'fi fi-py',\n",
       " 16.38,\n",
       " 17.0,\n",
       " 11.1,\n",
       " 9.76,\n",
       " 52.77,\n",
       " 28.0,\n",
       " 'Alejandro Benjamin Vysokolan Gonzalez',\n",
       " 14.36,\n",
       " 23.82,\n",
       " 'fi fi-py',\n",
       " 21.86,\n",
       " 41.32,\n",
       " 27.11,\n",
       " 14.36,\n",
       " 22.49]"
      ]
     },
     "execution_count": 77,
     "metadata": {},
     "output_type": "execute_result"
    }
   ],
   "source": [
    "datos = []\n",
    "for item in driver.find_element(By.TAG_NAME, 'tbody').find_elements(By.TAG_NAME, 'td'):\n",
    "    try: datos.append(item.find_element(By.TAG_NAME, 'span').get_attribute('class'))\n",
    "    except: \n",
    "        if item.text == '':\n",
    "            next\n",
    "        elif any(['(' in item.text, ')' in item.text]):\n",
    "            for a in item.text.replace('(', '').replace(')', '').split(' '):\n",
    "                try: datos.append(float(a))\n",
    "                except: datos.append(a)\n",
    "        else: \n",
    "            try: datos.append(float(item.text))\n",
    "            except: datos.append(item.text)\n",
    "datos"
   ]
  },
  {
   "cell_type": "code",
   "execution_count": 78,
   "id": "546dda08-3479-4164-8f16-9b498a087981",
   "metadata": {
    "tags": []
   },
   "outputs": [
    {
     "data": {
      "text/plain": [
       "[1.0,\n",
       " 'David Emmanuel Velozo Cabrera',\n",
       " 3.45,\n",
       " 3.98,\n",
       " 'fi fi-py',\n",
       " 3.45,\n",
       " 4.16,\n",
       " 4.34,\n",
       " 3.45,\n",
       " 5.25]"
      ]
     },
     "execution_count": 78,
     "metadata": {},
     "output_type": "execute_result"
    }
   ],
   "source": [
    "datos[0:10:]"
   ]
  },
  {
   "cell_type": "code",
   "execution_count": 47,
   "id": "74fed282-9343-49e7-8412-4b2b41da3781",
   "metadata": {
    "tags": []
   },
   "outputs": [
    {
     "data": {
      "text/plain": [
       "False"
      ]
     },
     "execution_count": 47,
     "metadata": {},
     "output_type": "execute_result"
    }
   ],
   "source": [
    "bool([])"
   ]
  },
  {
   "cell_type": "code",
   "execution_count": 79,
   "id": "60e85c61-22b3-4ed3-90bd-e808f7de5b5a",
   "metadata": {
    "tags": []
   },
   "outputs": [
    {
     "data": {
      "text/plain": [
       "[['David Emmanuel Velozo Cabrera',\n",
       "  3.45,\n",
       "  3.98,\n",
       "  'fi fi-py',\n",
       "  3.45,\n",
       "  4.16,\n",
       "  4.34,\n",
       "  3.45,\n",
       "  5.25],\n",
       " ['Milko Sebastián Gutiérrez Arroyo',\n",
       "  2.68,\n",
       "  4.09,\n",
       "  'fi fi-py',\n",
       "  2.68,\n",
       "  4.43,\n",
       "  4.45,\n",
       "  3.39,\n",
       "  'DNF'],\n",
       " ['Martin Alejandro Benítez López',\n",
       "  2.29,\n",
       "  4.69,\n",
       "  'fi fi-py',\n",
       "  2.29,\n",
       "  4.52,\n",
       "  3.56,\n",
       "  6.4,\n",
       "  5.98],\n",
       " ['Kenji Caceres', 3.13, 4.71, 'fi fi-py', 3.71, 5.76, 4.66, 3.13, 6.85],\n",
       " ['José Chávez', 4.89, 5.6, 'fi fi-py', 4.89, 5.49, 6.01, 5.31, 7.86],\n",
       " ['José Benítez', 3.1, 5.62, 'fi fi-py', 3.1, 8.98, 5.47, 5.51, 5.89],\n",
       " ['Pedro Benjamín Uliambre Galeano',\n",
       "  4.16,\n",
       "  5.65,\n",
       "  'fi fi-py',\n",
       "  5.43,\n",
       "  5.96,\n",
       "  4.16,\n",
       "  5.57,\n",
       "  7.81],\n",
       " ['Elias Miguel Acosta Acosta',\n",
       "  4.85,\n",
       "  5.75,\n",
       "  'fi fi-py',\n",
       "  6.46,\n",
       "  4.85,\n",
       "  5.28,\n",
       "  5.55,\n",
       "  6.43],\n",
       " ['Donato Simón Filippini',\n",
       "  3.02,\n",
       "  5.82,\n",
       "  'fi fi-ar',\n",
       "  3.02,\n",
       "  6.28,\n",
       "  4.78,\n",
       "  6.4,\n",
       "  11.04],\n",
       " ['Oliver Richard Zoilan Avalos',\n",
       "  3.65,\n",
       "  5.87,\n",
       "  'fi fi-py',\n",
       "  7.4,\n",
       "  'DNF',\n",
       "  3.65,\n",
       "  4.56,\n",
       "  5.64],\n",
       " ['Ileana Ojeda', 4.89, 6.49, 'fi fi-py', 12.43, 5.41, 7.63, 6.42, 4.89],\n",
       " ['Marcos Ezequiel Fretes Acosta',\n",
       "  4.53,\n",
       "  6.77,\n",
       "  'fi fi-py',\n",
       "  6.81,\n",
       "  4.53,\n",
       "  6.66,\n",
       "  6.83,\n",
       "  8.9],\n",
       " ['Milena Noemí Medina Obelar',\n",
       "  3.62,\n",
       "  6.93,\n",
       "  'fi fi-py',\n",
       "  7.16,\n",
       "  5.68,\n",
       "  8.7,\n",
       "  3.62,\n",
       "  7.96],\n",
       " ['Martín Rafael Orué Aguilera',\n",
       "  5.25,\n",
       "  7.26,\n",
       "  'fi fi-py',\n",
       "  7.21,\n",
       "  8.69,\n",
       "  8.74,\n",
       "  5.25,\n",
       "  5.88],\n",
       " ['Misael Alexander Mancuello Ayala',\n",
       "  4.79,\n",
       "  7.59,\n",
       "  'fi fi-py',\n",
       "  4.79,\n",
       "  6.15,\n",
       "  9.66,\n",
       "  6.95,\n",
       "  'DNF'],\n",
       " ['Jorge Sol Salinas', 7.32, 8.16, 'fi fi-py', 7.57, 7.99, 9.37, 7.32, 8.92],\n",
       " ['Luis Fernando Yegros Salinas',\n",
       "  6.7,\n",
       "  8.61,\n",
       "  'fi fi-py',\n",
       "  6.76,\n",
       "  6.7,\n",
       "  7.84,\n",
       "  11.24,\n",
       "  12.64],\n",
       " ['Nilton Tobias Ojeda Martinez',\n",
       "  3.37,\n",
       "  8.91,\n",
       "  'fi fi-py',\n",
       "  11.33,\n",
       "  9.68,\n",
       "  10.47,\n",
       "  6.57,\n",
       "  3.37],\n",
       " ['Juan Manuel Franceschelli',\n",
       "  8.23,\n",
       "  8.97,\n",
       "  'fi fi-py',\n",
       "  8.24,\n",
       "  17.64,\n",
       "  10.43,\n",
       "  8.24,\n",
       "  8.23],\n",
       " ['Alejandro Gabriel Delvalle Britez',\n",
       "  8.75,\n",
       "  9.17,\n",
       "  'fi fi-py',\n",
       "  9.12,\n",
       "  8.75,\n",
       "  13.01,\n",
       "  9.56,\n",
       "  8.83],\n",
       " ['Gustavo Adolfo Ortega Gomez',\n",
       "  8.35,\n",
       "  9.26,\n",
       "  'fi fi-ve',\n",
       "  9.06,\n",
       "  8.35,\n",
       "  23.11,\n",
       "  9.6,\n",
       "  9.13],\n",
       " ['Elvis Fernando Alderete Gonzalez',\n",
       "  5.75,\n",
       "  9.47,\n",
       "  'fi fi-py',\n",
       "  12.77,\n",
       "  5.75,\n",
       "  5.85,\n",
       "  18.96,\n",
       "  9.78],\n",
       " ['Gustavo Riveiro', 6.69, 9.75, 'fi fi-py', 6.69, 11.06, 10.53, 7.65, 23.05],\n",
       " ['Pető Bertalan', 9.58, 10.39, 'fi fi-hu', 9.58, 9.75, 11.38, 13.59, 10.05],\n",
       " ['Jesús Encina Cuenca Simon',\n",
       "  9.12,\n",
       "  11.01,\n",
       "  'fi fi-py',\n",
       "  11.74,\n",
       "  9.12,\n",
       "  12.13,\n",
       "  'DNF',\n",
       "  9.15],\n",
       " ['Alan Federico Zeballos Benitez',\n",
       "  11.06,\n",
       "  12.27,\n",
       "  'fi fi-py',\n",
       "  11.11,\n",
       "  12.52,\n",
       "  21.38,\n",
       "  11.06,\n",
       "  13.17],\n",
       " ['Piero Alessandro Rugilo Alsina',\n",
       "  9.76,\n",
       "  14.83,\n",
       "  'fi fi-py',\n",
       "  16.38,\n",
       "  17.0,\n",
       "  11.1,\n",
       "  9.76,\n",
       "  52.77]]"
      ]
     },
     "execution_count": 79,
     "metadata": {},
     "output_type": "execute_result"
    }
   ],
   "source": [
    "data = []\n",
    "for i in range(10, len(datos), 10):\n",
    "    data.append(datos[i-9:i:])\n",
    "data"
   ]
  },
  {
   "cell_type": "code",
   "execution_count": 53,
   "id": "a9dd1d9c-6b47-4354-b20f-a25e43c49ec4",
   "metadata": {
    "tags": []
   },
   "outputs": [
    {
     "data": {
      "text/plain": [
       "['alto', 'guarituba', '3.56']"
      ]
     },
     "execution_count": 53,
     "metadata": {},
     "output_type": "execute_result"
    }
   ],
   "source": [
    "'alto (guarituba) (3.56)'.replace('(', '').replace(')', '').split(' ')"
   ]
  },
  {
   "cell_type": "code",
   "execution_count": null,
   "id": "7a04f933-7e24-4dbd-9dbc-96d0b3bd5506",
   "metadata": {},
   "outputs": [],
   "source": []
  },
  {
   "cell_type": "code",
   "execution_count": null,
   "id": "2da8b50b-9c77-4776-b45a-a556d78218f8",
   "metadata": {},
   "outputs": [],
   "source": []
  },
  {
   "cell_type": "code",
   "execution_count": null,
   "id": "e6cb7387-4199-4056-a262-cb4fd98016ef",
   "metadata": {},
   "outputs": [],
   "source": []
  },
  {
   "cell_type": "code",
   "execution_count": null,
   "id": "9709302f-1b96-4e2a-9ff2-ff0890cac86e",
   "metadata": {},
   "outputs": [],
   "source": []
  },
  {
   "cell_type": "code",
   "execution_count": null,
   "id": "5c685c8e-b295-4fc3-8209-9bcc0ec0c885",
   "metadata": {},
   "outputs": [],
   "source": []
  },
  {
   "cell_type": "code",
   "execution_count": null,
   "id": "4718f991-a1ce-4d6c-ba74-fbd2b61156bb",
   "metadata": {},
   "outputs": [],
   "source": []
  },
  {
   "cell_type": "code",
   "execution_count": null,
   "id": "80a4815a-1bd6-4a6d-93ba-5a6618d17698",
   "metadata": {},
   "outputs": [],
   "source": []
  },
  {
   "cell_type": "code",
   "execution_count": null,
   "id": "52fa1d2c-5c69-4931-a60a-0ef0cdc1e0f7",
   "metadata": {},
   "outputs": [],
   "source": []
  },
  {
   "cell_type": "code",
   "execution_count": null,
   "id": "7dab4c43-eb2e-49e4-b228-a8c829c22a5a",
   "metadata": {},
   "outputs": [],
   "source": []
  },
  {
   "cell_type": "code",
   "execution_count": null,
   "id": "8c324df9-a86f-4586-9190-2ac000cc1cc9",
   "metadata": {},
   "outputs": [],
   "source": []
  },
  {
   "cell_type": "code",
   "execution_count": null,
   "id": "129a5025-9831-41bd-844a-4749e6d35516",
   "metadata": {},
   "outputs": [],
   "source": []
  },
  {
   "cell_type": "code",
   "execution_count": null,
   "id": "5af3ff4d-14e0-4514-8174-911788c05fd7",
   "metadata": {},
   "outputs": [],
   "source": []
  },
  {
   "cell_type": "code",
   "execution_count": null,
   "id": "a6d646c0-6e1a-4fa6-b6b6-c78244bc57c6",
   "metadata": {},
   "outputs": [],
   "source": []
  },
  {
   "cell_type": "code",
   "execution_count": null,
   "id": "bf162e62-6a9a-49f9-8874-0c3ba81567dc",
   "metadata": {},
   "outputs": [],
   "source": []
  },
  {
   "cell_type": "code",
   "execution_count": null,
   "id": "3d25534b-6eb0-45fc-b5c4-065f5a5eb43a",
   "metadata": {},
   "outputs": [],
   "source": []
  },
  {
   "cell_type": "code",
   "execution_count": null,
   "id": "7e351eb1-dc65-4d7b-ae65-a389dc9808c0",
   "metadata": {},
   "outputs": [],
   "source": []
  },
  {
   "cell_type": "code",
   "execution_count": null,
   "id": "0bb5346a-8bcb-4fbf-85fc-40039cbcb5b1",
   "metadata": {},
   "outputs": [],
   "source": []
  },
  {
   "cell_type": "code",
   "execution_count": null,
   "id": "adb1c75d-ddb3-4b91-9095-768c2dd3ee30",
   "metadata": {},
   "outputs": [],
   "source": []
  },
  {
   "cell_type": "code",
   "execution_count": null,
   "id": "dbba54f2-8b8f-495c-ba59-532076e7a8fa",
   "metadata": {},
   "outputs": [],
   "source": []
  },
  {
   "cell_type": "code",
   "execution_count": null,
   "id": "2fd9bfae-52de-4a5b-ba40-edc5dba8c028",
   "metadata": {},
   "outputs": [],
   "source": []
  },
  {
   "cell_type": "code",
   "execution_count": null,
   "id": "0c73930d-8aac-4c4a-b77a-8bbd7836c551",
   "metadata": {},
   "outputs": [],
   "source": []
  }
 ],
 "metadata": {
  "kernelspec": {
   "display_name": "Python 3 (ipykernel)",
   "language": "python",
   "name": "python3"
  },
  "language_info": {
   "codemirror_mode": {
    "name": "ipython",
    "version": 3
   },
   "file_extension": ".py",
   "mimetype": "text/x-python",
   "name": "python",
   "nbconvert_exporter": "python",
   "pygments_lexer": "ipython3",
   "version": "3.11.2"
  }
 },
 "nbformat": 4,
 "nbformat_minor": 5
}
