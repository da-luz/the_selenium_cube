{
 "cells": [
  {
   "cell_type": "code",
   "execution_count": 1,
   "id": "0771675a-880b-4cf0-b502-dfb7dafca0a6",
   "metadata": {
    "tags": []
   },
   "outputs": [],
   "source": [
    "import sys\n",
    "import datetime\n",
    "import pandas as pd\n",
    "from webdriver_manager.microsoft import EdgeChromiumDriverManager\n",
    "from selenium.webdriver.edge.service import Service\n",
    "from selenium.webdriver.edge.options import Options\n",
    "from selenium.webdriver.common.by import By\n",
    "from selenium import webdriver"
   ]
  },
  {
   "cell_type": "code",
   "execution_count": 2,
   "id": "e8fce89f-0e2f-4318-8abc-5520d71ea444",
   "metadata": {
    "tags": []
   },
   "outputs": [],
   "source": [
    "#Not implemented\n",
    "from selenium.webdriver.support.ui import WebDriverWait\n",
    "from selenium.webdriver.support import expected_conditions"
   ]
  },
  {
   "cell_type": "code",
   "execution_count": 3,
   "id": "92e78429-0de6-4ecc-990d-67d3db340537",
   "metadata": {
    "tags": []
   },
   "outputs": [],
   "source": [
    "#Not implemented\n",
    "cubes = ['222', '333', '444', '555', '666', '777']"
   ]
  },
  {
   "cell_type": "code",
   "execution_count": 4,
   "id": "a1caf61f-170f-46a0-a352-0ca3ea24646d",
   "metadata": {
    "tags": []
   },
   "outputs": [],
   "source": [
    "opt = Options()\n",
    "opt.add_experimental_option('prefs', {'intl.accept_languages': 'en,en_US'})"
   ]
  },
  {
   "cell_type": "code",
   "execution_count": 5,
   "id": "43e34d34-7442-4939-9344-9a5cc934ed54",
   "metadata": {
    "tags": []
   },
   "outputs": [],
   "source": [
    "driver = webdriver.Edge(service = Service(EdgeChromiumDriverManager().install()), options = opt)"
   ]
  },
  {
   "cell_type": "code",
   "execution_count": 6,
   "id": "ea8e8268-3975-4cb4-adf8-79e1af789002",
   "metadata": {
    "tags": []
   },
   "outputs": [],
   "source": [
    "competitions = 'https://www.worldcubeassociation.org/competitions?event_ids%5B%5D=333&event_ids%5B%5D=222&event_ids%5B%5D=444&event_ids%5B%5D=555&event_ids%5B%5D=666&event_ids%5B%5D=777&region=all&search=&year=all+years&state=past&from_date=&to_date=&delegate=&display=list'"
   ]
  },
  {
   "cell_type": "code",
   "execution_count": 7,
   "id": "a9756ea5-ea2d-4617-9341-a632aa7579b4",
   "metadata": {
    "tags": []
   },
   "outputs": [],
   "source": [
    "driver.get(competitions)"
   ]
  },
  {
   "cell_type": "code",
   "execution_count": 8,
   "id": "1ae45068-3596-4909-bee5-e0db02344664",
   "metadata": {
    "tags": []
   },
   "outputs": [],
   "source": [
    "competitions_we = driver.find_elements(By.XPATH, '//li [@class = \"list-group-item past\"]')"
   ]
  },
  {
   "cell_type": "code",
   "execution_count": 9,
   "id": "e1c7267d-9b58-411c-9f03-62eb2e47852b",
   "metadata": {
    "tags": []
   },
   "outputs": [],
   "source": [
    "def date_parse (x : str):\n",
    "    (x1 := x.split(','))\n",
    "    if not x.find(' - '): return datetime.datetime.strptime(x, '%b %d, %Y').date()\n",
    "    elif x.count(',') -1: return datetime.datetime.strptime((x.split(' - ')[0]), '%b %d, %Y').date()\n",
    "    else: return datetime.datetime.strptime((f'{x1[0].split(\" - \")[0]},' + x1[1]), '%b %d, %Y').date()"
   ]
  },
  {
   "cell_type": "code",
   "execution_count": 10,
   "id": "c59c0132-c6a2-4ece-ba82-6b9ba705fdcf",
   "metadata": {
    "tags": []
   },
   "outputs": [],
   "source": [
    "country_parse = lambda x: [(x1 := x.split(', '))[0], x1[-1]]"
   ]
  },
  {
   "cell_type": "code",
   "execution_count": 11,
   "id": "359738bf-b374-4f42-a54e-5aa0c9ed957f",
   "metadata": {
    "tags": []
   },
   "outputs": [
    {
     "name": "stdout",
     "output_type": "stream",
     "text": [
      "[==================================================] 100% Elapsed time: 0:08:52.066824s"
     ]
    }
   ],
   "source": [
    "competition_catalog = {}\n",
    "init = datetime.datetime.now()\n",
    "for i, competition in enumerate(competitions_we):\n",
    "    element = competition.find_element(By.CLASS_NAME, 'competition-link')\n",
    "    u = 50/(e := len(competitions_we))\n",
    "    competition_catalog[element.text] = {\n",
    "        'url': element.find_element(By.TAG_NAME, 'a').get_attribute('href'),\n",
    "        'country': country_parse(\n",
    "            competition.find_element(By.CLASS_NAME, 'location').text)[0],\n",
    "        'city/state': country_parse(\n",
    "            competition.find_element(By.CLASS_NAME, 'location').text)[1],        \n",
    "        'date': date_parse(competition.find_element(By.CLASS_NAME, 'date').text)}\n",
    "    sys.stdout.write('\\r')\n",
    "    sys.stdout.write(\n",
    "        \"[{n}{s}] {p}% Elapsed time: {t}s\".format(\n",
    "            n = '='*round(i*u),\n",
    "            s = ' '*round((e-i)*u),\n",
    "            p = round((i/e)*100),\n",
    "            t = (datetime.datetime.now() - init)))\n",
    "    sys.stdout.flush()"
   ]
  },
  {
   "cell_type": "code",
   "execution_count": 12,
   "id": "5f54d9ca-424d-406d-afa6-e6fc51ac8bad",
   "metadata": {},
   "outputs": [],
   "source": [
    "driver.quit()"
   ]
  }
 ],
 "metadata": {
  "kernelspec": {
   "display_name": "Python 3 (ipykernel)",
   "language": "python",
   "name": "python3"
  },
  "language_info": {
   "codemirror_mode": {
    "name": "ipython",
    "version": 3
   },
   "file_extension": ".py",
   "mimetype": "text/x-python",
   "name": "python",
   "nbconvert_exporter": "python",
   "pygments_lexer": "ipython3",
   "version": "3.11.2"
  }
 },
 "nbformat": 4,
 "nbformat_minor": 5
}
