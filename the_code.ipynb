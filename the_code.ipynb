{
 "cells": [
  {
   "cell_type": "code",
   "execution_count": 1,
   "id": "0771675a-880b-4cf0-b502-dfb7dafca0a6",
   "metadata": {
    "tags": []
   },
   "outputs": [],
   "source": [
    "import sys\n",
    "import datetime\n",
    "import pandas as pd\n",
    "from selenium.webdriver.common.by import By\n",
    "# Browser related import\n",
    "# Using Edge for performance, but you can choose other browser of your preference\n",
    "# You may just change 'edge' or 'microsoft' for your personal browser\n",
    "from selenium.webdriver import Edge as WD # WebDriver\n",
    "from webdriver_manager.microsoft import EdgeChromiumDriverManager as DM # DriverManager\n",
    "import selenium.webdriver.edge as swd # selenium web driver\n",
    "Service = swd.service.Service\n",
    "Options = swd.options.Options"
   ]
  },
  {
   "cell_type": "code",
   "execution_count": null,
   "id": "e8fce89f-0e2f-4318-8abc-5520d71ea444",
   "metadata": {
    "tags": []
   },
   "outputs": [],
   "source": [
    "# NOT IMPLEMENTED\n",
    "from selenium.webdriver.support.ui import WebDriverWait\n",
    "from selenium.webdriver.support import expected_conditions"
   ]
  },
  {
   "cell_type": "code",
   "execution_count": null,
   "id": "92e78429-0de6-4ecc-990d-67d3db340537",
   "metadata": {
    "tags": []
   },
   "outputs": [],
   "source": [
    "# NOT IMPLEMENTED\n",
    "cubes = ['222', '333', '444', '555', '666', '777']"
   ]
  },
  {
   "cell_type": "code",
   "execution_count": 2,
   "id": "a1caf61f-170f-46a0-a352-0ca3ea24646d",
   "metadata": {
    "tags": []
   },
   "outputs": [],
   "source": [
    "opt = Options()\n",
    "# For standarization, the browser language is defined to english\n",
    "opt.add_experimental_option('prefs', {'intl.accept_languages': 'en,en_US'})"
   ]
  },
  {
   "cell_type": "code",
   "execution_count": 3,
   "id": "43e34d34-7442-4939-9344-9a5cc934ed54",
   "metadata": {
    "tags": []
   },
   "outputs": [],
   "source": [
    "driver = WD(service = Service(DM().install()), options = opt)"
   ]
  },
  {
   "cell_type": "code",
   "execution_count": 4,
   "id": "ea8e8268-3975-4cb4-adf8-79e1af789002",
   "metadata": {
    "tags": []
   },
   "outputs": [],
   "source": [
    "# This url take us to the past competitions page with every setting needed\n",
    "competitions = 'https://www.worldcubeassociation.org/competitions?event_ids%5B%5D=333&event_ids%5B%5D=222&event_ids%5B%5D=444&event_ids%5B%5D=555&event_ids%5B%5D=666&event_ids%5B%5D=777&region=all&search=&year=all+years&state=past&from_date=&to_date=&delegate=&display=list'"
   ]
  },
  {
   "cell_type": "code",
   "execution_count": 5,
   "id": "a9756ea5-ea2d-4617-9341-a632aa7579b4",
   "metadata": {
    "tags": []
   },
   "outputs": [],
   "source": [
    "driver.get(competitions)"
   ]
  },
  {
   "cell_type": "code",
   "execution_count": 6,
   "id": "1ae45068-3596-4909-bee5-e0db02344664",
   "metadata": {
    "tags": []
   },
   "outputs": [],
   "source": [
    "# This competitions web element is a list\n",
    "# with every competition elements scrapped from the page\n",
    "competitions_we = driver.find_elements(By.XPATH, '//li [@class = \"list-group-item past\"]')"
   ]
  },
  {
   "cell_type": "code",
   "execution_count": 7,
   "id": "e1c7267d-9b58-411c-9f03-62eb2e47852b",
   "metadata": {
    "tags": []
   },
   "outputs": [],
   "source": [
    "# In future versions we'll make a DataFrame with all those infos\n",
    "# So it is good if we already parse the dates provided\n",
    "def date_parse (x : str):\n",
    "    (x1 := x.split(','))\n",
    "    # If date is 'mmm d, yyyy'\n",
    "    if not x.find(' - '): return datetime.datetime.strptime(x, '%b %d, %Y').date()\n",
    "    # If date is 'mmm d, yyyy - mmm d, yyyy'\n",
    "    elif x.count(',') -1: return datetime.datetime.strptime((x.split(' - ')[0]), '%b %d, %Y').date()\n",
    "    # If date is 'mmm d - d, yyyy' or 'mmm d - mmm d, yyyy'\n",
    "    else: return datetime.datetime.strptime((f'{x1[0].split(\" - \")[0]},' + x1[1]), '%b %d, %Y').date()"
   ]
  },
  {
   "cell_type": "code",
   "execution_count": 8,
   "id": "c59c0132-c6a2-4ece-ba82-6b9ba705fdcf",
   "metadata": {
    "tags": []
   },
   "outputs": [],
   "source": [
    "# For getting Country an City/State\n",
    "# If location is 'Country, City' or 'Country, City, State'\n",
    "country_parse = lambda x: [(x1 := x.split(', '))[0], x1[-1]] "
   ]
  },
  {
   "cell_type": "code",
   "execution_count": 9,
   "id": "359738bf-b374-4f42-a54e-5aa0c9ed957f",
   "metadata": {
    "tags": []
   },
   "outputs": [
    {
     "name": "stdout",
     "output_type": "stream",
     "text": [
      "[==================================================] 100%        Elapsed time: 0:13:21.505526\n",
      "Done in 0:13:21.508634!\n"
     ]
    }
   ],
   "source": [
    "competition_catalog = {}\n",
    "\n",
    "init = datetime.datetime.now()\n",
    "u = 50/(e := len(competitions_we)) # For progress bar, setting the length unit\n",
    "\n",
    "for i, competition in enumerate(competitions_we):\n",
    "    \n",
    "    element = competition.find_element(By.CLASS_NAME, 'competition-link')  \n",
    "    competition_catalog[element.text] = {\n",
    "        'url': element.find_element(By.TAG_NAME, 'a').get_attribute('href'),\n",
    "        'country': (cp := country_parse( # country parse\n",
    "            competition.find_element(By.CLASS_NAME, 'location').text))[0],\n",
    "        'city/state': cp[1],        \n",
    "        'date': date_parse(competition.find_element(By.CLASS_NAME, 'date').text)}\n",
    "    \n",
    "    # Printing progress bar\n",
    "    sys.stdout.write('\\r')\n",
    "    sys.stdout.write(\n",
    "        f\"[{'='*round(i*u)}{' '*round((e-i)*u)}] {round((i/e)*100)}%\\\n",
    "        Elapsed time: {(datetime.datetime.now() - init)}\")\n",
    "    sys.stdout.flush()\n",
    "print(f'\\nDone in {datetime.datetime.now() - init}!')"
   ]
  },
  {
   "cell_type": "code",
   "execution_count": 10,
   "id": "5f54d9ca-424d-406d-afa6-e6fc51ac8bad",
   "metadata": {},
   "outputs": [],
   "source": [
    "driver.quit()"
   ]
  },
  {
   "cell_type": "code",
   "execution_count": null,
   "id": "c56e767b-262a-4c7f-b86f-e2c8018e7ae6",
   "metadata": {
    "tags": []
   },
   "outputs": [],
   "source": []
  }
 ],
 "metadata": {
  "kernelspec": {
   "display_name": "Python 3 (ipykernel)",
   "language": "python",
   "name": "python3"
  },
  "language_info": {
   "codemirror_mode": {
    "name": "ipython",
    "version": 3
   },
   "file_extension": ".py",
   "mimetype": "text/x-python",
   "name": "python",
   "nbconvert_exporter": "python",
   "pygments_lexer": "ipython3",
   "version": "3.11.2"
  }
 },
 "nbformat": 4,
 "nbformat_minor": 5
}
