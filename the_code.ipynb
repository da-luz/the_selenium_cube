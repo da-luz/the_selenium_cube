{
 "cells": [
  {
   "cell_type": "code",
   "execution_count": 30,
   "id": "0771675a-880b-4cf0-b502-dfb7dafca0a6",
   "metadata": {
    "tags": []
   },
   "outputs": [],
   "source": [
    "import sys\n",
    "import datetime\n",
    "import pandas as pd\n",
    "from webdriver_manager.microsoft import EdgeChromiumDriverManager\n",
    "from selenium.webdriver.edge.service import Service\n",
    "from selenium.webdriver.common.by import By\n",
    "from selenium import webdriver"
   ]
  },
  {
   "cell_type": "code",
   "execution_count": 44,
   "id": "e8fce89f-0e2f-4318-8abc-5520d71ea444",
   "metadata": {
    "tags": []
   },
   "outputs": [],
   "source": [
    "#Not implemented\n",
    "from selenium.webdriver.support.ui import WebDriverWait\n",
    "from selenium.webdriver.support import expected_conditions"
   ]
  },
  {
   "cell_type": "code",
   "execution_count": 32,
   "id": "43e34d34-7442-4939-9344-9a5cc934ed54",
   "metadata": {
    "tags": []
   },
   "outputs": [],
   "source": [
    "driver = webdriver.Edge(service = Service(EdgeChromiumDriverManager().install()))"
   ]
  },
  {
   "cell_type": "code",
   "execution_count": 33,
   "id": "ea8e8268-3975-4cb4-adf8-79e1af789002",
   "metadata": {
    "tags": []
   },
   "outputs": [],
   "source": [
    "competitions = 'https://www.worldcubeassociation.org/competitions?event_ids%5B%5D=333&event_ids%5B%5D=222&event_ids%5B%5D=444&event_ids%5B%5D=555&event_ids%5B%5D=666&event_ids%5B%5D=777&region=all&search=&year=all+years&state=past&from_date=&to_date=&delegate=&display=list'"
   ]
  },
  {
   "cell_type": "code",
   "execution_count": 34,
   "id": "a9756ea5-ea2d-4617-9341-a632aa7579b4",
   "metadata": {
    "tags": []
   },
   "outputs": [],
   "source": [
    "driver.get(competitions)"
   ]
  },
  {
   "cell_type": "code",
   "execution_count": 43,
   "id": "92e78429-0de6-4ecc-990d-67d3db340537",
   "metadata": {
    "tags": []
   },
   "outputs": [],
   "source": [
    "#Not implemented\n",
    "cubes = ['222', '333', '444', '555', '666', '777']"
   ]
  },
  {
   "cell_type": "code",
   "execution_count": 36,
   "id": "1ae45068-3596-4909-bee5-e0db02344664",
   "metadata": {
    "tags": []
   },
   "outputs": [],
   "source": [
    "competitions_we = driver.find_elements(By.CLASS_NAME, 'competition-link')"
   ]
  },
  {
   "cell_type": "code",
   "execution_count": 41,
   "id": "359738bf-b374-4f42-a54e-5aa0c9ed957f",
   "metadata": {},
   "outputs": [
    {
     "name": "stdout",
     "output_type": "stream",
     "text": [
      "[==================================================] 100% Elapsed time: 0:05:27.548066s"
     ]
    }
   ],
   "source": [
    "competition_catalog = {}\n",
    "init = datetime.datetime.now()\n",
    "for i, element in enumerate(competitions_we):\n",
    "    u = 50/(e := len(competitions_we))\n",
    "    competition_catalog[element.text] = {\n",
    "        'url': element.find_element(By.TAG_NAME, 'a').get_attribute('href'),\n",
    "        'country': element.find_element(By.TAG_NAME, 'span').get_attribute('class')}\n",
    "    sys.stdout.write('\\r')\n",
    "    sys.stdout.write(\n",
    "        \"[{n}{s}] {p}% Elapsed time: {t}s\".format(\n",
    "            n = '='*round(i*u),\n",
    "            s = ' '*round((e-i)*u),\n",
    "            p = round((i/e)*100),\n",
    "            t = (datetime.datetime.now() - init)))\n",
    "    sys.stdout.flush()"
   ]
  },
  {
   "cell_type": "code",
   "execution_count": 42,
   "id": "5f54d9ca-424d-406d-afa6-e6fc51ac8bad",
   "metadata": {},
   "outputs": [],
   "source": [
    "driver.quit()"
   ]
  },
  {
   "cell_type": "code",
   "execution_count": null,
   "id": "b34fbe49-dece-4000-aaac-8c75e55a3e4c",
   "metadata": {},
   "outputs": [],
   "source": []
  },
  {
   "cell_type": "code",
   "execution_count": null,
   "id": "a1d4ac8a-2019-4246-aa62-e105fd1a0d25",
   "metadata": {},
   "outputs": [],
   "source": []
  },
  {
   "cell_type": "code",
   "execution_count": null,
   "id": "65191d21-9316-4dd1-82ca-6daf6d1375c6",
   "metadata": {},
   "outputs": [],
   "source": []
  },
  {
   "cell_type": "code",
   "execution_count": null,
   "id": "2da8b50b-9c77-4776-b45a-a556d78218f8",
   "metadata": {},
   "outputs": [],
   "source": []
  },
  {
   "cell_type": "code",
   "execution_count": null,
   "id": "e6cb7387-4199-4056-a262-cb4fd98016ef",
   "metadata": {},
   "outputs": [],
   "source": []
  },
  {
   "cell_type": "code",
   "execution_count": null,
   "id": "9709302f-1b96-4e2a-9ff2-ff0890cac86e",
   "metadata": {},
   "outputs": [],
   "source": []
  },
  {
   "cell_type": "code",
   "execution_count": null,
   "id": "5c685c8e-b295-4fc3-8209-9bcc0ec0c885",
   "metadata": {},
   "outputs": [],
   "source": []
  },
  {
   "cell_type": "code",
   "execution_count": null,
   "id": "4718f991-a1ce-4d6c-ba74-fbd2b61156bb",
   "metadata": {},
   "outputs": [],
   "source": []
  },
  {
   "cell_type": "code",
   "execution_count": null,
   "id": "80a4815a-1bd6-4a6d-93ba-5a6618d17698",
   "metadata": {},
   "outputs": [],
   "source": []
  },
  {
   "cell_type": "code",
   "execution_count": null,
   "id": "52fa1d2c-5c69-4931-a60a-0ef0cdc1e0f7",
   "metadata": {},
   "outputs": [],
   "source": []
  },
  {
   "cell_type": "code",
   "execution_count": null,
   "id": "7dab4c43-eb2e-49e4-b228-a8c829c22a5a",
   "metadata": {},
   "outputs": [],
   "source": []
  },
  {
   "cell_type": "code",
   "execution_count": null,
   "id": "8c324df9-a86f-4586-9190-2ac000cc1cc9",
   "metadata": {},
   "outputs": [],
   "source": []
  },
  {
   "cell_type": "code",
   "execution_count": null,
   "id": "129a5025-9831-41bd-844a-4749e6d35516",
   "metadata": {},
   "outputs": [],
   "source": []
  },
  {
   "cell_type": "code",
   "execution_count": null,
   "id": "5af3ff4d-14e0-4514-8174-911788c05fd7",
   "metadata": {},
   "outputs": [],
   "source": []
  },
  {
   "cell_type": "code",
   "execution_count": null,
   "id": "a6d646c0-6e1a-4fa6-b6b6-c78244bc57c6",
   "metadata": {},
   "outputs": [],
   "source": []
  },
  {
   "cell_type": "code",
   "execution_count": null,
   "id": "bf162e62-6a9a-49f9-8874-0c3ba81567dc",
   "metadata": {},
   "outputs": [],
   "source": []
  },
  {
   "cell_type": "code",
   "execution_count": null,
   "id": "3d25534b-6eb0-45fc-b5c4-065f5a5eb43a",
   "metadata": {},
   "outputs": [],
   "source": []
  },
  {
   "cell_type": "code",
   "execution_count": null,
   "id": "7e351eb1-dc65-4d7b-ae65-a389dc9808c0",
   "metadata": {},
   "outputs": [],
   "source": []
  },
  {
   "cell_type": "code",
   "execution_count": null,
   "id": "0bb5346a-8bcb-4fbf-85fc-40039cbcb5b1",
   "metadata": {},
   "outputs": [],
   "source": []
  },
  {
   "cell_type": "code",
   "execution_count": null,
   "id": "adb1c75d-ddb3-4b91-9095-768c2dd3ee30",
   "metadata": {},
   "outputs": [],
   "source": []
  },
  {
   "cell_type": "code",
   "execution_count": null,
   "id": "dbba54f2-8b8f-495c-ba59-532076e7a8fa",
   "metadata": {},
   "outputs": [],
   "source": []
  },
  {
   "cell_type": "code",
   "execution_count": null,
   "id": "2fd9bfae-52de-4a5b-ba40-edc5dba8c028",
   "metadata": {},
   "outputs": [],
   "source": []
  },
  {
   "cell_type": "code",
   "execution_count": null,
   "id": "0c73930d-8aac-4c4a-b77a-8bbd7836c551",
   "metadata": {},
   "outputs": [],
   "source": []
  }
 ],
 "metadata": {
  "kernelspec": {
   "display_name": "Python 3 (ipykernel)",
   "language": "python",
   "name": "python3"
  },
  "language_info": {
   "codemirror_mode": {
    "name": "ipython",
    "version": 3
   },
   "file_extension": ".py",
   "mimetype": "text/x-python",
   "name": "python",
   "nbconvert_exporter": "python",
   "pygments_lexer": "ipython3",
   "version": "3.11.2"
  }
 },
 "nbformat": 4,
 "nbformat_minor": 5
}
